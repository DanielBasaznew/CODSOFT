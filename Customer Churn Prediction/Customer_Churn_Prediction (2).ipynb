{
  "nbformat": 4,
  "nbformat_minor": 0,
  "metadata": {
    "colab": {
      "provenance": []
    },
    "kernelspec": {
      "name": "python3",
      "display_name": "Python 3"
    },
    "language_info": {
      "name": "python"
    }
  },
  "cells": [
    {
      "cell_type": "markdown",
      "source": [
        "**Loading**"
      ],
      "metadata": {
        "id": "BqZM9e2cllns"
      }
    },
    {
      "cell_type": "code",
      "execution_count": null,
      "metadata": {
        "colab": {
          "base_uri": "https://localhost:8080/"
        },
        "id": "kdIGG-s6jXZU",
        "outputId": "1f34e8af-e984-4386-aac2-bae01e7a1b68"
      },
      "outputs": [
        {
          "output_type": "stream",
          "name": "stdout",
          "text": [
            "Drive already mounted at /content/drive; to attempt to forcibly remount, call drive.mount(\"/content/drive\", force_remount=True).\n"
          ]
        }
      ],
      "source": [
        "from google.colab import drive\n",
        "import os\n",
        "\n",
        "drive.mount('/content/drive')\n",
        "file_path = '/content/drive/My Drive/Customer Churn Prediction/Churn_Modelling.csv'"
      ]
    },
    {
      "cell_type": "markdown",
      "source": [
        "**Visualization**"
      ],
      "metadata": {
        "id": "v9T37a3hlu-p"
      }
    },
    {
      "cell_type": "code",
      "source": [
        "import pandas as pd\n",
        "\n",
        "df = pd.read_csv(file_path)\n",
        "print(df.head())"
      ],
      "metadata": {
        "colab": {
          "base_uri": "https://localhost:8080/"
        },
        "id": "bGgm7NiLjYpo",
        "outputId": "793758e8-b8df-4b61-928f-708795ff0d53"
      },
      "execution_count": null,
      "outputs": [
        {
          "output_type": "stream",
          "name": "stdout",
          "text": [
            "   RowNumber  CustomerId   Surname  CreditScore Geography  Gender  Age  \\\n",
            "0          1    15634602  Hargrave          619    France  Female   42   \n",
            "1          2    15647311      Hill          608     Spain  Female   41   \n",
            "2          3    15619304      Onio          502    France  Female   42   \n",
            "3          4    15701354      Boni          699    France  Female   39   \n",
            "4          5    15737888  Mitchell          850     Spain  Female   43   \n",
            "\n",
            "   Tenure    Balance  NumOfProducts  HasCrCard  IsActiveMember  \\\n",
            "0       2       0.00              1          1               1   \n",
            "1       1   83807.86              1          0               1   \n",
            "2       8  159660.80              3          1               0   \n",
            "3       1       0.00              2          0               0   \n",
            "4       2  125510.82              1          1               1   \n",
            "\n",
            "   EstimatedSalary  Exited  \n",
            "0        101348.88       1  \n",
            "1        112542.58       0  \n",
            "2        113931.57       1  \n",
            "3         93826.63       0  \n",
            "4         79084.10       0  \n"
          ]
        }
      ]
    },
    {
      "cell_type": "code",
      "source": [
        "data_shape = df.shape\n",
        "print(f'The dataset contains {data_shape[0]} rows and {data_shape[1]} columns.')"
      ],
      "metadata": {
        "colab": {
          "base_uri": "https://localhost:8080/"
        },
        "id": "_rwd2jrznIds",
        "outputId": "2d6296f9-7b7c-4f0d-f113-f7efeb3e7321"
      },
      "execution_count": null,
      "outputs": [
        {
          "output_type": "stream",
          "name": "stdout",
          "text": [
            "The dataset contains 10000 rows and 14 columns.\n"
          ]
        }
      ]
    },
    {
      "cell_type": "code",
      "source": [
        "null_check = df.isna().sum()\n",
        "null_check"
      ],
      "metadata": {
        "colab": {
          "base_uri": "https://localhost:8080/",
          "height": 523
        },
        "id": "78id-IiqkyVH",
        "outputId": "6ee6f15b-63c5-405e-cebc-0cec6ffa0703"
      },
      "execution_count": null,
      "outputs": [
        {
          "output_type": "execute_result",
          "data": {
            "text/plain": [
              "RowNumber          0\n",
              "CustomerId         0\n",
              "Surname            0\n",
              "CreditScore        0\n",
              "Geography          0\n",
              "Gender             0\n",
              "Age                0\n",
              "Tenure             0\n",
              "Balance            0\n",
              "NumOfProducts      0\n",
              "HasCrCard          0\n",
              "IsActiveMember     0\n",
              "EstimatedSalary    0\n",
              "Exited             0\n",
              "dtype: int64"
            ],
            "text/html": [
              "<div>\n",
              "<style scoped>\n",
              "    .dataframe tbody tr th:only-of-type {\n",
              "        vertical-align: middle;\n",
              "    }\n",
              "\n",
              "    .dataframe tbody tr th {\n",
              "        vertical-align: top;\n",
              "    }\n",
              "\n",
              "    .dataframe thead th {\n",
              "        text-align: right;\n",
              "    }\n",
              "</style>\n",
              "<table border=\"1\" class=\"dataframe\">\n",
              "  <thead>\n",
              "    <tr style=\"text-align: right;\">\n",
              "      <th></th>\n",
              "      <th>0</th>\n",
              "    </tr>\n",
              "  </thead>\n",
              "  <tbody>\n",
              "    <tr>\n",
              "      <th>RowNumber</th>\n",
              "      <td>0</td>\n",
              "    </tr>\n",
              "    <tr>\n",
              "      <th>CustomerId</th>\n",
              "      <td>0</td>\n",
              "    </tr>\n",
              "    <tr>\n",
              "      <th>Surname</th>\n",
              "      <td>0</td>\n",
              "    </tr>\n",
              "    <tr>\n",
              "      <th>CreditScore</th>\n",
              "      <td>0</td>\n",
              "    </tr>\n",
              "    <tr>\n",
              "      <th>Geography</th>\n",
              "      <td>0</td>\n",
              "    </tr>\n",
              "    <tr>\n",
              "      <th>Gender</th>\n",
              "      <td>0</td>\n",
              "    </tr>\n",
              "    <tr>\n",
              "      <th>Age</th>\n",
              "      <td>0</td>\n",
              "    </tr>\n",
              "    <tr>\n",
              "      <th>Tenure</th>\n",
              "      <td>0</td>\n",
              "    </tr>\n",
              "    <tr>\n",
              "      <th>Balance</th>\n",
              "      <td>0</td>\n",
              "    </tr>\n",
              "    <tr>\n",
              "      <th>NumOfProducts</th>\n",
              "      <td>0</td>\n",
              "    </tr>\n",
              "    <tr>\n",
              "      <th>HasCrCard</th>\n",
              "      <td>0</td>\n",
              "    </tr>\n",
              "    <tr>\n",
              "      <th>IsActiveMember</th>\n",
              "      <td>0</td>\n",
              "    </tr>\n",
              "    <tr>\n",
              "      <th>EstimatedSalary</th>\n",
              "      <td>0</td>\n",
              "    </tr>\n",
              "    <tr>\n",
              "      <th>Exited</th>\n",
              "      <td>0</td>\n",
              "    </tr>\n",
              "  </tbody>\n",
              "</table>\n",
              "</div><br><label><b>dtype:</b> int64</label>"
            ]
          },
          "metadata": {},
          "execution_count": 13
        }
      ]
    },
    {
      "cell_type": "code",
      "source": [
        "duplicate_count = df.duplicated().sum()\n",
        "print(f'Number of duplicate rows: {duplicate_count}')"
      ],
      "metadata": {
        "colab": {
          "base_uri": "https://localhost:8080/"
        },
        "id": "29dXS1FYmid3",
        "outputId": "75b688a4-8df9-4fc0-b7c3-4eb388eecd34"
      },
      "execution_count": null,
      "outputs": [
        {
          "output_type": "stream",
          "name": "stdout",
          "text": [
            "Number of duplicate rows: 0\n"
          ]
        }
      ]
    },
    {
      "cell_type": "code",
      "source": [
        "data_description = df.describe()\n",
        "print(data_description)"
      ],
      "metadata": {
        "colab": {
          "base_uri": "https://localhost:8080/"
        },
        "id": "TyFpGvTinqYG",
        "outputId": "0b3653e6-ad4e-4858-aefb-0273a60d2393"
      },
      "execution_count": null,
      "outputs": [
        {
          "output_type": "stream",
          "name": "stdout",
          "text": [
            "         RowNumber    CustomerId   CreditScore           Age        Tenure  \\\n",
            "count  10000.00000  1.000000e+04  10000.000000  10000.000000  10000.000000   \n",
            "mean    5000.50000  1.569094e+07    650.528800     38.921800      5.012800   \n",
            "std     2886.89568  7.193619e+04     96.653299     10.487806      2.892174   \n",
            "min        1.00000  1.556570e+07    350.000000     18.000000      0.000000   \n",
            "25%     2500.75000  1.562853e+07    584.000000     32.000000      3.000000   \n",
            "50%     5000.50000  1.569074e+07    652.000000     37.000000      5.000000   \n",
            "75%     7500.25000  1.575323e+07    718.000000     44.000000      7.000000   \n",
            "max    10000.00000  1.581569e+07    850.000000     92.000000     10.000000   \n",
            "\n",
            "             Balance  NumOfProducts    HasCrCard  IsActiveMember  \\\n",
            "count   10000.000000   10000.000000  10000.00000    10000.000000   \n",
            "mean    76485.889288       1.530200      0.70550        0.515100   \n",
            "std     62397.405202       0.581654      0.45584        0.499797   \n",
            "min         0.000000       1.000000      0.00000        0.000000   \n",
            "25%         0.000000       1.000000      0.00000        0.000000   \n",
            "50%     97198.540000       1.000000      1.00000        1.000000   \n",
            "75%    127644.240000       2.000000      1.00000        1.000000   \n",
            "max    250898.090000       4.000000      1.00000        1.000000   \n",
            "\n",
            "       EstimatedSalary        Exited  \n",
            "count     10000.000000  10000.000000  \n",
            "mean     100090.239881      0.203700  \n",
            "std       57510.492818      0.402769  \n",
            "min          11.580000      0.000000  \n",
            "25%       51002.110000      0.000000  \n",
            "50%      100193.915000      0.000000  \n",
            "75%      149388.247500      0.000000  \n",
            "max      199992.480000      1.000000  \n"
          ]
        }
      ]
    },
    {
      "cell_type": "code",
      "source": [
        "import seaborn as sns\n",
        "import matplotlib.pyplot as plt\n",
        "\n",
        "sns.countplot(x='Gender', hue='Exited', data=df, palette='Set2')\n",
        "\n",
        "plt.xlabel(\"Gender\", fontsize=12)\n",
        "plt.ylabel(\"Number of Customers\", fontsize=12)\n",
        "plt.title(\"Gender Distribution of Exited and Non-Exited Customers\", fontsize=14)\n",
        "\n",
        "plt.legend(title='Exited Status', loc='upper right', labels=['Did Not Exit', 'Exited'])\n",
        "plt.show()"
      ],
      "metadata": {
        "colab": {
          "base_uri": "https://localhost:8080/",
          "height": 481
        },
        "id": "mkedjF8WoqKP",
        "outputId": "371a09fe-e023-473d-a45d-3dba28876bda"
      },
      "execution_count": null,
      "outputs": [
        {
          "output_type": "display_data",
          "data": {
            "text/plain": [
              "<Figure size 640x480 with 1 Axes>"
            ],
            "image/png": "[encoded data removed]"
          },
          "metadata": {}
        }
      ]
    },
    {
      "cell_type": "code",
      "source": [
        "sns.set(style=\"whitegrid\")\n",
        "bins = [18, 25, 35, 45, 55, 65, 75, 100]\n",
        "labels = ['18-25', '26-35', '36-45', '46-55', '56-65', '66-75', '76+']\n",
        "df['Age Group'] = pd.cut(df['Age'], bins=bins, labels=labels, right=False)\n",
        "sns.countplot(x='Age Group', hue='Exited', data=df, palette='pastel')\n",
        "plt.xlabel(\"Age Group\", fontsize=12)\n",
        "plt.ylabel(\"Number of Customers\", fontsize=12)\n",
        "plt.title(\"Distribution of Exited and Non-Exited Customers by Age Group\", fontsize=14)\n",
        "plt.legend(title='Exited Status', loc='upper right', labels=['Did Not Exit', 'Exited'])\n",
        "plt.show()"
      ],
      "metadata": {
        "colab": {
          "base_uri": "https://localhost:8080/",
          "height": 481
        },
        "id": "wtg7ctK_pp2l",
        "outputId": "79ba35b8-646a-43ea-8df1-a32d99dc322b"
      },
      "execution_count": null,
      "outputs": [
        {
          "output_type": "display_data",
          "data": {
            "text/plain": [
              "<Figure size 640x480 with 1 Axes>"
            ],
            "image/png": "[encoded data removed]"
          },
          "metadata": {}
        }
      ]
    },
    {
      "cell_type": "code",
      "source": [
        "sns.set(style=\"whitegrid\")\n",
        "sns.countplot(x='Geography', hue='Exited', data=df, palette='pastel')\n",
        "plt.xlabel(\"Geography\", fontsize=12)\n",
        "plt.ylabel(\"Number of Customers\", fontsize=12)\n",
        "plt.title(\"Geographic Distribution of Exited and Non-Exited Customers\", fontsize=14)\n",
        "plt.legend(title='Exited Status', loc='upper right', labels=['Did Not Exit', 'Exited'])\n",
        "plt.show()"
      ],
      "metadata": {
        "colab": {
          "base_uri": "https://localhost:8080/",
          "height": 481
        },
        "id": "KALcvzTHpH1s",
        "outputId": "38f0aa15-8ed2-418f-82ae-a9e7501ff9a5"
      },
      "execution_count": null,
      "outputs": [
        {
          "output_type": "display_data",
          "data": {
            "text/plain": [
              "<Figure size 640x480 with 1 Axes>"
            ],
            "image/png": "[encoded data removed]"
          },
          "metadata": {}
        }
      ]
    },
    {
      "cell_type": "code",
      "source": [
        "sns.set(style=\"whitegrid\")\n",
        "\n",
        "sns.countplot(data=df, x='Exited', palette='pastel', order=df['Exited'].value_counts().index)\n",
        "\n",
        "plt.xlabel(\"Exited Status\", fontsize=12)\n",
        "plt.ylabel(\"Number of Customers\", fontsize=12)\n",
        "plt.title(\"Distribution of Exited and Non-Exited Customers\", fontsize=14)\n",
        "\n",
        "plt.xticks(ticks=[0, 1], labels=['Did Not Exit', 'Exited'], fontsize=10)\n",
        "plt.grid(axis='y')\n",
        "plt.show()"
      ],
      "metadata": {
        "colab": {
          "base_uri": "https://localhost:8080/",
          "height": 567
        },
        "id": "N_XeFmr7oPeq",
        "outputId": "7520d7e9-7a51-4fab-d06e-b94a6846c488"
      },
      "execution_count": null,
      "outputs": [
        {
          "output_type": "stream",
          "name": "stderr",
          "text": [
            "<ipython-input-31-7605ac95e5a0>:3: FutureWarning: \n",
            "\n",
            "Passing `palette` without assigning `hue` is deprecated and will be removed in v0.14.0. Assign the `x` variable to `hue` and set `legend=False` for the same effect.\n",
            "\n",
            "  sns.countplot(data=df, x='Exited', palette='pastel', order=df['Exited'].value_counts().index)\n"
          ]
        },
        {
          "output_type": "display_data",
          "data": {
            "text/plain": [
              "<Figure size 640x480 with 1 Axes>"
            ],
            "image/png": "[encoded data removed]"
          },
          "metadata": {}
        }
      ]
    },
    {
      "cell_type": "markdown",
      "source": [
        "**Transforming Raw Data into Usable Formats**"
      ],
      "metadata": {
        "id": "YRDJ2MlUrdgY"
      }
    },
    {
      "cell_type": "code",
      "source": [
        "df.columns"
      ],
      "metadata": {
        "colab": {
          "base_uri": "https://localhost:8080/"
        },
        "id": "WzLSSd1jrGv1",
        "outputId": "f45314b8-b512-4725-d7b1-f22c4fa81d31"
      },
      "execution_count": null,
      "outputs": [
        {
          "output_type": "execute_result",
          "data": {
            "text/plain": [
              "Index(['RowNumber', 'CustomerId', 'Surname', 'CreditScore', 'Geography',\n",
              "       'Gender', 'Age', 'Tenure', 'Balance', 'NumOfProducts', 'HasCrCard',\n",
              "       'IsActiveMember', 'EstimatedSalary', 'Exited', 'Age Group'],\n",
              "      dtype='object')"
            ]
          },
          "metadata": {},
          "execution_count": 34
        }
      ]
    },
    {
      "cell_type": "markdown",
      "source": [
        " **Drop Unnecessary Columns**"
      ],
      "metadata": {
        "id": "eFn17-JDt0xj"
      }
    },
    {
      "cell_type": "code",
      "source": [
        "columns_to_drop = ['RowNumber', 'CustomerId', 'Surname']\n",
        "\n",
        "df_cleaned = df.drop(columns=columns_to_drop)\n",
        "\n",
        "print(\"Remaining columns after dropping unnecessary ones:\")\n",
        "print(df_cleaned.columns.tolist())\n",
        "df_cleaned.shape"
      ],
      "metadata": {
        "colab": {
          "base_uri": "https://localhost:8080/"
        },
        "id": "h0gzuHl0rhHR",
        "outputId": "daf4e6fd-b1db-4cbb-cd83-c602ad6bc52d"
      },
      "execution_count": null,
      "outputs": [
        {
          "output_type": "stream",
          "name": "stdout",
          "text": [
            "Remaining columns after dropping unnecessary ones:\n",
            "['CreditScore', 'Geography', 'Gender', 'Age', 'Tenure', 'Balance', 'NumOfProducts', 'HasCrCard', 'IsActiveMember', 'EstimatedSalary', 'Exited', 'Age Group']\n"
          ]
        },
        {
          "output_type": "execute_result",
          "data": {
            "text/plain": [
              "(10000, 12)"
            ]
          },
          "metadata": {},
          "execution_count": 38
        }
      ]
    },
    {
      "cell_type": "code",
      "source": [
        "import numpy as np\n",
        "from sklearn.preprocessing import LabelEncoder\n",
        "label_encoder = LabelEncoder()\n",
        "for column in df_cleaned.columns:\n",
        "    if pd.api.types.is_object_dtype(df_cleaned[column]) or pd.api.types.is_categorical_dtype(df_cleaned[column]):\n",
        "        df_cleaned[column] = label_encoder.fit_transform(df_cleaned[column])\n",
        "print(df_cleaned.head())"
      ],
      "metadata": {
        "colab": {
          "base_uri": "https://localhost:8080/"
        },
        "id": "ci-hsnVwtoNV",
        "outputId": "9c17b0ad-eff6-4c01-d5f2-d147b173ff1c"
      },
      "execution_count": null,
      "outputs": [
        {
          "output_type": "stream",
          "name": "stdout",
          "text": [
            "   CreditScore  Geography  Gender  Age  Tenure    Balance  NumOfProducts  \\\n",
            "0          619          0       0   42       2       0.00              1   \n",
            "1          608          2       0   41       1   83807.86              1   \n",
            "2          502          0       0   42       8  159660.80              3   \n",
            "3          699          0       0   39       1       0.00              2   \n",
            "4          850          2       0   43       2  125510.82              1   \n",
            "\n",
            "   HasCrCard  IsActiveMember  EstimatedSalary  Exited  Age Group  \n",
            "0          1               1        101348.88       1          2  \n",
            "1          0               1        112542.58       0          2  \n",
            "2          1               0        113931.57       1          2  \n",
            "3          0               0         93826.63       0          2  \n",
            "4          1               1         79084.10       0          2  \n"
          ]
        },
        {
          "output_type": "stream",
          "name": "stderr",
          "text": [
            "<ipython-input-44-71277383a57c>:5: DeprecationWarning: is_categorical_dtype is deprecated and will be removed in a future version. Use isinstance(dtype, pd.CategoricalDtype) instead\n",
            "  if pd.api.types.is_object_dtype(df_cleaned[column]) or pd.api.types.is_categorical_dtype(df_cleaned[column]):\n"
          ]
        }
      ]
    },
    {
      "cell_type": "markdown",
      "source": [
        "**Segmenting Features into Inputs and Outputs**"
      ],
      "metadata": {
        "id": "ZHaGe1lcwQ7p"
      }
    },
    {
      "cell_type": "code",
      "source": [
        "X = df_cleaned.drop(columns=['Exited'])\n",
        "y = df_cleaned['Exited']\n",
        "\n",
        "print(\"Input features (X) shape:\", X.shape)\n",
        "print(\"Output feature (y) shape:\", y.shape)"
      ],
      "metadata": {
        "colab": {
          "base_uri": "https://localhost:8080/"
        },
        "id": "0E7LxM4Bt290",
        "outputId": "de01920e-07de-4855-95f5-568de6b4b8f0"
      },
      "execution_count": null,
      "outputs": [
        {
          "output_type": "stream",
          "name": "stdout",
          "text": [
            "Input features (X) shape: (10000, 11)\n",
            "Output feature (y) shape: (10000,)\n"
          ]
        }
      ]
    },
    {
      "cell_type": "markdown",
      "source": [
        "**Standardizing the Data**"
      ],
      "metadata": {
        "id": "DFoMCBB9xeAn"
      }
    },
    {
      "cell_type": "code",
      "source": [
        "from sklearn.preprocessing import StandardScaler\n",
        "\n",
        "scaler = StandardScaler()\n",
        "x_scaled = scaler.fit_transform(X)\n",
        "print(x_scaled[0:5])"
      ],
      "metadata": {
        "colab": {
          "base_uri": "https://localhost:8080/"
        },
        "id": "AzRKbz-kwFwb",
        "outputId": "168f880c-09a6-4e11-c791-9f88948fdada"
      },
      "execution_count": null,
      "outputs": [
        {
          "output_type": "stream",
          "name": "stdout",
          "text": [
            "[[-0.32622142 -0.90188624 -1.09598752  0.29351742 -1.04175968 -1.22584767\n",
            "  -0.91158349  0.64609167  0.97024255  0.02188649  0.05323044]\n",
            " [-0.44003595  1.51506738 -1.09598752  0.19816383 -1.38753759  0.11735002\n",
            "  -0.91158349 -1.54776799  0.97024255  0.21653375  0.05323044]\n",
            " [-1.53679418 -0.90188624 -1.09598752  0.29351742  1.03290776  1.33305335\n",
            "   2.52705662  0.64609167 -1.03067011  0.2406869   0.05323044]\n",
            " [ 0.50152063 -0.90188624 -1.09598752  0.00745665 -1.38753759 -1.22584767\n",
            "   0.80773656 -1.54776799 -1.03067011 -0.10891792  0.05323044]\n",
            " [ 2.06388377  1.51506738 -1.09598752  0.38887101 -1.04175968  0.7857279\n",
            "  -0.91158349  0.64609167  0.97024255 -0.36527578  0.05323044]]\n"
          ]
        }
      ]
    },
    {
      "cell_type": "markdown",
      "source": [
        "**Dividing Data into Training and Testing Sets**"
      ],
      "metadata": {
        "id": "KCaj_fK7xvi1"
      }
    },
    {
      "cell_type": "code",
      "source": [
        "from sklearn.model_selection import train_test_split\n",
        "\n",
        "\n",
        "x_train, x_test, y_train, y_test = train_test_split(\n",
        "    x_scaled,\n",
        "    y,\n",
        "    test_size=0.2,\n",
        "    random_state=42\n",
        ")\n",
        "\n",
        "# Display the shapes of the resulting datasets\n",
        "print(\"Training feature set shape:\", x_train.shape)\n",
        "print(\"Testing feature set shape:\", x_test.shape)\n",
        "print(\"Training target set shape:\", y_train.shape)\n",
        "print(\"Testing target set shape:\", y_test.shape)"
      ],
      "metadata": {
        "colab": {
          "base_uri": "https://localhost:8080/"
        },
        "id": "tpp-YXLVwmg7",
        "outputId": "abfc5e01-aa8f-405f-fd89-058192063104"
      },
      "execution_count": null,
      "outputs": [
        {
          "output_type": "stream",
          "name": "stdout",
          "text": [
            "Training feature set shape: (8000, 11)\n",
            "Testing feature set shape: (2000, 11)\n",
            "Training target set shape: (8000,)\n",
            "Testing target set shape: (2000,)\n"
          ]
        }
      ]
    },
    {
      "cell_type": "markdown",
      "source": [
        "**Train the Logistic Regression Model on the Preprocessed Data**"
      ],
      "metadata": {
        "id": "r9CcWfOuzaQv"
      }
    },
    {
      "cell_type": "code",
      "source": [
        "from sklearn.linear_model import LogisticRegression\n",
        "\n",
        "logistic_regression_model = LogisticRegression()\n",
        "logistic_regression_model.fit(x_train, y_train)\n",
        "\n",
        "print(\"Logistic Regression model has been successfully trained on the training data.\")"
      ],
      "metadata": {
        "colab": {
          "base_uri": "https://localhost:8080/"
        },
        "id": "meaYvRMwxhud",
        "outputId": "5452df21-e77f-4a1b-d3b0-c11d757058cc"
      },
      "execution_count": null,
      "outputs": [
        {
          "output_type": "stream",
          "name": "stdout",
          "text": [
            "Logistic Regression model has been successfully trained on the training data.\n"
          ]
        }
      ]
    },
    {
      "cell_type": "markdown",
      "source": [
        "**Identifying Potential Customer Churn**"
      ],
      "metadata": {
        "id": "qqsMCuBT0WBF"
      }
    },
    {
      "cell_type": "code",
      "source": [
        "predict = logistic_regression_model.predict(x_test)"
      ],
      "metadata": {
        "id": "BVauS1t4zZxp"
      },
      "execution_count": null,
      "outputs": []
    },
    {
      "cell_type": "code",
      "source": [
        "print(logistic_regression_model.score(x_test,y_test)*100, '%')"
      ],
      "metadata": {
        "colab": {
          "base_uri": "https://localhost:8080/"
        },
        "id": "f1H2NFvP0X8Z",
        "outputId": "e6549ab2-a32b-4d4f-d91f-f55859e4c00a"
      },
      "execution_count": null,
      "outputs": [
        {
          "output_type": "stream",
          "name": "stdout",
          "text": [
            "81.55 %\n"
          ]
        }
      ]
    },
    {
      "cell_type": "code",
      "source": [
        "for i in range(50):\n",
        "    churn_status = \"Will Not Churn\" if predict[i] == 0 else \"Will Churn\"\n",
        "    print(f\"Customer {i + 1} {churn_status}\")"
      ],
      "metadata": {
        "colab": {
          "base_uri": "https://localhost:8080/"
        },
        "id": "-R7PyYbczd8k",
        "outputId": "a463de95-2d28-4b65-965c-f42cabbe4a70"
      },
      "execution_count": null,
      "outputs": [
        {
          "output_type": "stream",
          "name": "stdout",
          "text": [
            "Customer 1 Will Not Churn\n",
            "Customer 2 Will Not Churn\n",
            "Customer 3 Will Not Churn\n",
            "Customer 4 Will Not Churn\n",
            "Customer 5 Will Not Churn\n",
            "Customer 6 Will Not Churn\n",
            "Customer 7 Will Not Churn\n",
            "Customer 8 Will Not Churn\n",
            "Customer 9 Will Not Churn\n",
            "Customer 10 Will Not Churn\n",
            "Customer 11 Will Not Churn\n",
            "Customer 12 Will Churn\n",
            "Customer 13 Will Not Churn\n",
            "Customer 14 Will Not Churn\n",
            "Customer 15 Will Not Churn\n",
            "Customer 16 Will Not Churn\n",
            "Customer 17 Will Not Churn\n",
            "Customer 18 Will Not Churn\n",
            "Customer 19 Will Not Churn\n",
            "Customer 20 Will Not Churn\n",
            "Customer 21 Will Not Churn\n",
            "Customer 22 Will Not Churn\n",
            "Customer 23 Will Not Churn\n",
            "Customer 24 Will Not Churn\n",
            "Customer 25 Will Not Churn\n",
            "Customer 26 Will Not Churn\n",
            "Customer 27 Will Not Churn\n",
            "Customer 28 Will Not Churn\n",
            "Customer 29 Will Not Churn\n",
            "Customer 30 Will Not Churn\n",
            "Customer 31 Will Not Churn\n",
            "Customer 32 Will Not Churn\n",
            "Customer 33 Will Not Churn\n",
            "Customer 34 Will Not Churn\n",
            "Customer 35 Will Not Churn\n",
            "Customer 36 Will Churn\n",
            "Customer 37 Will Not Churn\n",
            "Customer 38 Will Not Churn\n",
            "Customer 39 Will Not Churn\n",
            "Customer 40 Will Not Churn\n",
            "Customer 41 Will Not Churn\n",
            "Customer 42 Will Churn\n",
            "Customer 43 Will Not Churn\n",
            "Customer 44 Will Not Churn\n",
            "Customer 45 Will Not Churn\n",
            "Customer 46 Will Not Churn\n",
            "Customer 47 Will Not Churn\n",
            "Customer 48 Will Not Churn\n",
            "Customer 49 Will Not Churn\n",
            "Customer 50 Will Not Churn\n"
          ]
        }
      ]
    },
    {
      "cell_type": "markdown",
      "source": [
        " **Classification Report**"
      ],
      "metadata": {
        "id": "XPwbvcag3OQU"
      }
    },
    {
      "cell_type": "code",
      "source": [
        "from sklearn.metrics import classification_report\n",
        "\n",
        "report = classification_report(y_test, predict)\n",
        "print(\"Classification Report:\\n\")\n",
        "print(report)"
      ],
      "metadata": {
        "colab": {
          "base_uri": "https://localhost:8080/"
        },
        "id": "6O_-FPMF2dC0",
        "outputId": "89fd343f-09fe-4183-f3ed-5b512423b941"
      },
      "execution_count": null,
      "outputs": [
        {
          "output_type": "stream",
          "name": "stdout",
          "text": [
            "Classification Report:\n",
            "\n",
            "              precision    recall  f1-score   support\n",
            "\n",
            "           0       0.83      0.97      0.89      1607\n",
            "           1       0.60      0.18      0.28       393\n",
            "\n",
            "    accuracy                           0.82      2000\n",
            "   macro avg       0.72      0.58      0.59      2000\n",
            "weighted avg       0.78      0.82      0.77      2000\n",
            "\n"
          ]
        }
      ]
    },
    {
      "cell_type": "markdown",
      "source": [
        "**Confusion Matrix**"
      ],
      "metadata": {
        "id": "pNkWf4AF2uGy"
      }
    },
    {
      "cell_type": "code",
      "source": [
        "import seaborn as sns\n",
        "import matplotlib.pyplot as plt\n",
        "from sklearn.metrics import confusion_matrix\n",
        "\n",
        "\n",
        "confusion_mtx = confusion_matrix(y_test, predict)\n",
        "\n",
        "plt.figure(figsize=(8, 6))\n",
        "sns.heatmap(confusion_mtx, annot=True, fmt='d', cmap='Blues', cbar=False,\n",
        "            annot_kws={'size': 12})\n",
        "\n",
        "plt.title(\"Confusion Matrix\", fontsize=16)\n",
        "plt.xlabel(\"Predicted Label\", fontsize=12)\n",
        "plt.ylabel(\"True Label\", fontsize=12)\n",
        "plt.xticks(ticks=[0.5, 1.5], labels=['Not Churn', 'Churn'], rotation=0)\n",
        "plt.yticks(ticks=[0.5, 1.5], labels=['Not Churn', 'Churn'], rotation=0)\n",
        "\n",
        "plt.show()"
      ],
      "metadata": {
        "colab": {
          "base_uri": "https://localhost:8080/",
          "height": 575
        },
        "id": "8lUchfFD1Y1e",
        "outputId": "f07f4c9c-baa3-4d8a-96e7-b2e4b35aaaf8"
      },
      "execution_count": null,
      "outputs": [
        {
          "output_type": "display_data",
          "data": {
            "text/plain": [
              "<Figure size 800x600 with 1 Axes>"
            ],
            "image/png": "[encoded data removed]"
          },
          "metadata": {}
        }
      ]
    },
    {
      "cell_type": "code",
      "source": [
        "comparison_df = pd.DataFrame({\n",
        "    'Random ID': range(1, len(y_test) + 1),  # Random number column\n",
        "    'Actual': ['Will Churn' if value == 1 else 'Will Not Churn' for value in y_test],\n",
        "    'Predicted': ['Will Churn' if value == 1 else 'Will Not Churn' for value in predict]\n",
        "})\n",
        "\n",
        "\n",
        "comparison_df[170:190]"
      ],
      "metadata": {
        "colab": {
          "base_uri": "https://localhost:8080/",
          "height": 676
        },
        "id": "T2ULZ11i3pDq",
        "outputId": "47a7934f-c338-4e16-eea2-b95538f41829"
      },
      "execution_count": null,
      "outputs": [
        {
          "output_type": "execute_result",
          "data": {
            "text/plain": [
              "     Random ID          Actual       Predicted\n",
              "170        171  Will Not Churn  Will Not Churn\n",
              "171        172  Will Not Churn  Will Not Churn\n",
              "172        173      Will Churn      Will Churn\n",
              "173        174  Will Not Churn  Will Not Churn\n",
              "174        175  Will Not Churn  Will Not Churn\n",
              "175        176  Will Not Churn  Will Not Churn\n",
              "176        177  Will Not Churn  Will Not Churn\n",
              "177        178  Will Not Churn  Will Not Churn\n",
              "178        179  Will Not Churn  Will Not Churn\n",
              "179        180  Will Not Churn  Will Not Churn\n",
              "180        181  Will Not Churn  Will Not Churn\n",
              "181        182  Will Not Churn  Will Not Churn\n",
              "182        183  Will Not Churn  Will Not Churn\n",
              "183        184      Will Churn      Will Churn\n",
              "184        185      Will Churn  Will Not Churn\n",
              "185        186  Will Not Churn  Will Not Churn\n",
              "186        187  Will Not Churn  Will Not Churn\n",
              "187        188  Will Not Churn  Will Not Churn\n",
              "188        189  Will Not Churn  Will Not Churn\n",
              "189        190  Will Not Churn  Will Not Churn"
            ],
            "text/html": [
              "\n",
              "  <div id=\"df-f80cc3b2-fe09-485c-ae7e-305603afb08f\" class=\"colab-df-container\">\n",
              "    <div>\n",
              "<style scoped>\n",
              "    .dataframe tbody tr th:only-of-type {\n",
              "        vertical-align: middle;\n",
              "    }\n",
              "\n",
              "    .dataframe tbody tr th {\n",
              "        vertical-align: top;\n",
              "    }\n",
              "\n",
              "    .dataframe thead th {\n",
              "        text-align: right;\n",
              "    }\n",
              "</style>\n",
              "<table border=\"1\" class=\"dataframe\">\n",
              "  <thead>\n",
              "    <tr style=\"text-align: right;\">\n",
              "      <th></th>\n",
              "      <th>Random ID</th>\n",
              "      <th>Actual</th>\n",
              "      <th>Predicted</th>\n",
              "    </tr>\n",
              "  </thead>\n",
              "  <tbody>\n",
              "    <tr>\n",
              "      <th>170</th>\n",
              "      <td>171</td>\n",
              "      <td>Will Not Churn</td>\n",
              "      <td>Will Not Churn</td>\n",
              "    </tr>\n",
              "    <tr>\n",
              "      <th>171</th>\n",
              "      <td>172</td>\n",
              "      <td>Will Not Churn</td>\n",
              "      <td>Will Not Churn</td>\n",
              "    </tr>\n",
              "    <tr>\n",
              "      <th>172</th>\n",
              "      <td>173</td>\n",
              "      <td>Will Churn</td>\n",
              "      <td>Will Churn</td>\n",
              "    </tr>\n",
              "    <tr>\n",
              "      <th>173</th>\n",
              "      <td>174</td>\n",
              "      <td>Will Not Churn</td>\n",
              "      <td>Will Not Churn</td>\n",
              "    </tr>\n",
              "    <tr>\n",
              "      <th>174</th>\n",
              "      <td>175</td>\n",
              "      <td>Will Not Churn</td>\n",
              "      <td>Will Not Churn</td>\n",
              "    </tr>\n",
              "    <tr>\n",
              "      <th>175</th>\n",
              "      <td>176</td>\n",
              "      <td>Will Not Churn</td>\n",
              "      <td>Will Not Churn</td>\n",
              "    </tr>\n",
              "    <tr>\n",
              "      <th>176</th>\n",
              "      <td>177</td>\n",
              "      <td>Will Not Churn</td>\n",
              "      <td>Will Not Churn</td>\n",
              "    </tr>\n",
              "    <tr>\n",
              "      <th>177</th>\n",
              "      <td>178</td>\n",
              "      <td>Will Not Churn</td>\n",
              "      <td>Will Not Churn</td>\n",
              "    </tr>\n",
              "    <tr>\n",
              "      <th>178</th>\n",
              "      <td>179</td>\n",
              "      <td>Will Not Churn</td>\n",
              "      <td>Will Not Churn</td>\n",
              "    </tr>\n",
              "    <tr>\n",
              "      <th>179</th>\n",
              "      <td>180</td>\n",
              "      <td>Will Not Churn</td>\n",
              "      <td>Will Not Churn</td>\n",
              "    </tr>\n",
              "    <tr>\n",
              "      <th>180</th>\n",
              "      <td>181</td>\n",
              "      <td>Will Not Churn</td>\n",
              "      <td>Will Not Churn</td>\n",
              "    </tr>\n",
              "    <tr>\n",
              "      <th>181</th>\n",
              "      <td>182</td>\n",
              "      <td>Will Not Churn</td>\n",
              "      <td>Will Not Churn</td>\n",
              "    </tr>\n",
              "    <tr>\n",
              "      <th>182</th>\n",
              "      <td>183</td>\n",
              "      <td>Will Not Churn</td>\n",
              "      <td>Will Not Churn</td>\n",
              "    </tr>\n",
              "    <tr>\n",
              "      <th>183</th>\n",
              "      <td>184</td>\n",
              "      <td>Will Churn</td>\n",
              "      <td>Will Churn</td>\n",
              "    </tr>\n",
              "    <tr>\n",
              "      <th>184</th>\n",
              "      <td>185</td>\n",
              "      <td>Will Churn</td>\n",
              "      <td>Will Not Churn</td>\n",
              "    </tr>\n",
              "    <tr>\n",
              "      <th>185</th>\n",
              "      <td>186</td>\n",
              "      <td>Will Not Churn</td>\n",
              "      <td>Will Not Churn</td>\n",
              "    </tr>\n",
              "    <tr>\n",
              "      <th>186</th>\n",
              "      <td>187</td>\n",
              "      <td>Will Not Churn</td>\n",
              "      <td>Will Not Churn</td>\n",
              "    </tr>\n",
              "    <tr>\n",
              "      <th>187</th>\n",
              "      <td>188</td>\n",
              "      <td>Will Not Churn</td>\n",
              "      <td>Will Not Churn</td>\n",
              "    </tr>\n",
              "    <tr>\n",
              "      <th>188</th>\n",
              "      <td>189</td>\n",
              "      <td>Will Not Churn</td>\n",
              "      <td>Will Not Churn</td>\n",
              "    </tr>\n",
              "    <tr>\n",
              "      <th>189</th>\n",
              "      <td>190</td>\n",
              "      <td>Will Not Churn</td>\n",
              "      <td>Will Not Churn</td>\n",
              "    </tr>\n",
              "  </tbody>\n",
              "</table>\n",
              "</div>\n",
              "    <div class=\"colab-df-buttons\">\n",
              "\n",
              "  <div class=\"colab-df-container\">\n",
              "    <button class=\"colab-df-convert\" onclick=\"convertToInteractive('df-f80cc3b2-fe09-485c-ae7e-305603afb08f')\"\n",
              "            title=\"Convert this dataframe to an interactive table.\"\n",
              "            style=\"display:none;\">\n",
              "\n",
              "  <svg xmlns=\"http://www.w3.org/2000/svg\" height=\"24px\" viewBox=\"0 -960 960 960\">\n",
              "    <path d=\"M120-120v-720h720v720H120Zm60-500h600v-160H180v160Zm220 220h160v-160H400v160Zm0 220h160v-160H400v160ZM180-400h160v-160H180v160Zm440 0h160v-160H620v160ZM180-180h160v-160H180v160Zm440 0h160v-160H620v160Z\"/>\n",
              "  </svg>\n",
              "    </button>\n",
              "\n",
              "  <style>\n",
              "    .colab-df-container {\n",
              "      display:flex;\n",
              "      gap: 12px;\n",
              "    }\n",
              "\n",
              "    .colab-df-convert {\n",
              "      background-color: #E8F0FE;\n",
              "      border: none;\n",
              "      border-radius: 50%;\n",
              "      cursor: pointer;\n",
              "      display: none;\n",
              "      fill: #1967D2;\n",
              "      height: 32px;\n",
              "      padding: 0 0 0 0;\n",
              "      width: 32px;\n",
              "    }\n",
              "\n",
              "    .colab-df-convert:hover {\n",
              "      background-color: #E2EBFA;\n",
              "      box-shadow: 0px 1px 2px rgba(60, 64, 67, 0.3), 0px 1px 3px 1px rgba(60, 64, 67, 0.15);\n",
              "      fill: #174EA6;\n",
              "    }\n",
              "\n",
              "    .colab-df-buttons div {\n",
              "      margin-bottom: 4px;\n",
              "    }\n",
              "\n",
              "    [theme=dark] .colab-df-convert {\n",
              "      background-color: #3B4455;\n",
              "      fill: #D2E3FC;\n",
              "    }\n",
              "\n",
              "    [theme=dark] .colab-df-convert:hover {\n",
              "      background-color: #434B5C;\n",
              "      box-shadow: 0px 1px 3px 1px rgba(0, 0, 0, 0.15);\n",
              "      filter: drop-shadow(0px 1px 2px rgba(0, 0, 0, 0.3));\n",
              "      fill: #FFFFFF;\n",
              "    }\n",
              "  </style>\n",
              "\n",
              "    <script>\n",
              "      const buttonEl =\n",
              "        document.querySelector('#df-f80cc3b2-fe09-485c-ae7e-305603afb08f button.colab-df-convert');\n",
              "      buttonEl.style.display =\n",
              "        google.colab.kernel.accessAllowed ? 'block' : 'none';\n",
              "\n",
              "      async function convertToInteractive(key) {\n",
              "        const element = document.querySelector('#df-f80cc3b2-fe09-485c-ae7e-305603afb08f');\n",
              "        const dataTable =\n",
              "          await google.colab.kernel.invokeFunction('convertToInteractive',\n",
              "                                                    [key], {});\n",
              "        if (!dataTable) return;\n",
              "\n",
              "        const docLinkHtml = 'Like what you see? Visit the ' +\n",
              "          '<a target=\"_blank\" href=https://colab.research.google.com/notebooks/data_table.ipynb>data table notebook</a>'\n",
              "          + ' to learn more about interactive tables.';\n",
              "        element.innerHTML = '';\n",
              "        dataTable['output_type'] = 'display_data';\n",
              "        await google.colab.output.renderOutput(dataTable, element);\n",
              "        const docLink = document.createElement('div');\n",
              "        docLink.innerHTML = docLinkHtml;\n",
              "        element.appendChild(docLink);\n",
              "      }\n",
              "    </script>\n",
              "  </div>\n",
              "\n",
              "\n",
              "<div id=\"df-6eb7d83b-c17d-4216-8937-dd2ffd2b5626\">\n",
              "  <button class=\"colab-df-quickchart\" onclick=\"quickchart('df-6eb7d83b-c17d-4216-8937-dd2ffd2b5626')\"\n",
              "            title=\"Suggest charts\"\n",
              "            style=\"display:none;\">\n",
              "\n",
              "<svg xmlns=\"http://www.w3.org/2000/svg\" height=\"24px\"viewBox=\"0 0 24 24\"\n",
              "     width=\"24px\">\n",
              "    <g>\n",
              "        <path d=\"M19 3H5c-1.1 0-2 .9-2 2v14c0 1.1.9 2 2 2h14c1.1 0 2-.9 2-2V5c0-1.1-.9-2-2-2zM9 17H7v-7h2v7zm4 0h-2V7h2v10zm4 0h-2v-4h2v4z\"/>\n",
              "    </g>\n",
              "</svg>\n",
              "  </button>\n",
              "\n",
              "<style>\n",
              "  .colab-df-quickchart {\n",
              "      --bg-color: #E8F0FE;\n",
              "      --fill-color: #1967D2;\n",
              "      --hover-bg-color: #E2EBFA;\n",
              "      --hover-fill-color: #174EA6;\n",
              "      --disabled-fill-color: #AAA;\n",
              "      --disabled-bg-color: #DDD;\n",
              "  }\n",
              "\n",
              "  [theme=dark] .colab-df-quickchart {\n",
              "      --bg-color: #3B4455;\n",
              "      --fill-color: #D2E3FC;\n",
              "      --hover-bg-color: #434B5C;\n",
              "      --hover-fill-color: #FFFFFF;\n",
              "      --disabled-bg-color: #3B4455;\n",
              "      --disabled-fill-color: #666;\n",
              "  }\n",
              "\n",
              "  .colab-df-quickchart {\n",
              "    background-color: var(--bg-color);\n",
              "    border: none;\n",
              "    border-radius: 50%;\n",
              "    cursor: pointer;\n",
              "    display: none;\n",
              "    fill: var(--fill-color);\n",
              "    height: 32px;\n",
              "    padding: 0;\n",
              "    width: 32px;\n",
              "  }\n",
              "\n",
              "  .colab-df-quickchart:hover {\n",
              "    background-color: var(--hover-bg-color);\n",
              "    box-shadow: 0 1px 2px rgba(60, 64, 67, 0.3), 0 1px 3px 1px rgba(60, 64, 67, 0.15);\n",
              "    fill: var(--button-hover-fill-color);\n",
              "  }\n",
              "\n",
              "  .colab-df-quickchart-complete:disabled,\n",
              "  .colab-df-quickchart-complete:disabled:hover {\n",
              "    background-color: var(--disabled-bg-color);\n",
              "    fill: var(--disabled-fill-color);\n",
              "    box-shadow: none;\n",
              "  }\n",
              "\n",
              "  .colab-df-spinner {\n",
              "    border: 2px solid var(--fill-color);\n",
              "    border-color: transparent;\n",
              "    border-bottom-color: var(--fill-color);\n",
              "    animation:\n",
              "      spin 1s steps(1) infinite;\n",
              "  }\n",
              "\n",
              "  @keyframes spin {\n",
              "    0% {\n",
              "      border-color: transparent;\n",
              "      border-bottom-color: var(--fill-color);\n",
              "      border-left-color: var(--fill-color);\n",
              "    }\n",
              "    20% {\n",
              "      border-color: transparent;\n",
              "      border-left-color: var(--fill-color);\n",
              "      border-top-color: var(--fill-color);\n",
              "    }\n",
              "    30% {\n",
              "      border-color: transparent;\n",
              "      border-left-color: var(--fill-color);\n",
              "      border-top-color: var(--fill-color);\n",
              "      border-right-color: var(--fill-color);\n",
              "    }\n",
              "    40% {\n",
              "      border-color: transparent;\n",
              "      border-right-color: var(--fill-color);\n",
              "      border-top-color: var(--fill-color);\n",
              "    }\n",
              "    60% {\n",
              "      border-color: transparent;\n",
              "      border-right-color: var(--fill-color);\n",
              "    }\n",
              "    80% {\n",
              "      border-color: transparent;\n",
              "      border-right-color: var(--fill-color);\n",
              "      border-bottom-color: var(--fill-color);\n",
              "    }\n",
              "    90% {\n",
              "      border-color: transparent;\n",
              "      border-bottom-color: var(--fill-color);\n",
              "    }\n",
              "  }\n",
              "</style>\n",
              "\n",
              "  <script>\n",
              "    async function quickchart(key) {\n",
              "      const quickchartButtonEl =\n",
              "        document.querySelector('#' + key + ' button');\n",
              "      quickchartButtonEl.disabled = true;  // To prevent multiple clicks.\n",
              "      quickchartButtonEl.classList.add('colab-df-spinner');\n",
              "      try {\n",
              "        const charts = await google.colab.kernel.invokeFunction(\n",
              "            'suggestCharts', [key], {});\n",
              "      } catch (error) {\n",
              "        console.error('Error during call to suggestCharts:', error);\n",
              "      }\n",
              "      quickchartButtonEl.classList.remove('colab-df-spinner');\n",
              "      quickchartButtonEl.classList.add('colab-df-quickchart-complete');\n",
              "    }\n",
              "    (() => {\n",
              "      let quickchartButtonEl =\n",
              "        document.querySelector('#df-6eb7d83b-c17d-4216-8937-dd2ffd2b5626 button');\n",
              "      quickchartButtonEl.style.display =\n",
              "        google.colab.kernel.accessAllowed ? 'block' : 'none';\n",
              "    })();\n",
              "  </script>\n",
              "</div>\n",
              "\n",
              "    </div>\n",
              "  </div>\n"
            ],
            "application/vnd.google.colaboratory.intrinsic+json": {
              "type": "dataframe",
              "summary": "{\n  \"name\": \"comparison_df[170:190]\",\n  \"rows\": 20,\n  \"fields\": [\n    {\n      \"column\": \"Random ID\",\n      \"properties\": {\n        \"dtype\": \"number\",\n        \"std\": 5,\n        \"min\": 171,\n        \"max\": 190,\n        \"num_unique_values\": 20,\n        \"samples\": [\n          171,\n          188,\n          186\n        ],\n        \"semantic_type\": \"\",\n        \"description\": \"\"\n      }\n    },\n    {\n      \"column\": \"Actual\",\n      \"properties\": {\n        \"dtype\": \"category\",\n        \"num_unique_values\": 2,\n        \"samples\": [\n          \"Will Churn\",\n          \"Will Not Churn\"\n        ],\n        \"semantic_type\": \"\",\n        \"description\": \"\"\n      }\n    },\n    {\n      \"column\": \"Predicted\",\n      \"properties\": {\n        \"dtype\": \"category\",\n        \"num_unique_values\": 2,\n        \"samples\": [\n          \"Will Churn\",\n          \"Will Not Churn\"\n        ],\n        \"semantic_type\": \"\",\n        \"description\": \"\"\n      }\n    }\n  ]\n}"
            }
          },
          "metadata": {},
          "execution_count": 91
        }
      ]
    },
    {
      "cell_type": "code",
      "source": [],
      "metadata": {
        "id": "4ptVZBML3p-g"
      },
      "execution_count": null,
      "outputs": []
    }
  ]
}